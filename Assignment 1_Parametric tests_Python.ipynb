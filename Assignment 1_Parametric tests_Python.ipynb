{
 "cells": [
  {
   "cell_type": "code",
   "execution_count": 1,
   "id": "33d1be4d-75ca-448d-995a-9ea04f46c112",
   "metadata": {},
   "outputs": [],
   "source": [
    "#Assignment 1_Parametric tests_Python\n",
    "#Oksana Goljevacki\n"
   ]
  },
  {
   "cell_type": "code",
   "execution_count": 3,
   "id": "6f3d2f77-2e3e-4c72-9cf5-564f0b80df6a",
   "metadata": {},
   "outputs": [],
   "source": [
    "#In a randomized control trial, 32 patients were divided into two groups: A and B. \n",
    "#Group A received test drug whereas group B received placebo. \n",
    "#The variable of interest was ‘Change in pain level’ measured by visual analogue scale (VAS)’\n",
    "#before treatment and after 3 days of treatment."
   ]
  },
  {
   "cell_type": "code",
   "execution_count": 55,
   "id": "355fc676-0d52-4d26-a3bc-3b52f899b332",
   "metadata": {},
   "outputs": [
    {
     "name": "stdout",
     "output_type": "stream",
     "text": [
      "  Group  VAS_before  VAS_after\n",
      "0     A          86         71\n",
      "1     A          77         59\n",
      "2     A          75         44\n",
      "3     A          83         49\n",
      "4     A          72         32\n",
      "       VAS_before  VAS_after\n",
      "count   32.000000  32.000000\n",
      "mean    75.156250  57.593750\n",
      "std      6.107158  18.289534\n",
      "min     61.000000  29.000000\n",
      "25%     70.750000  39.500000\n",
      "50%     75.000000  61.500000\n",
      "75%     79.250000  73.000000\n",
      "max     86.000000  86.000000\n",
      "Shapiro-Wilk Test for VAS_before: ShapiroResult(statistic=0.9794088177164894, pvalue=0.7822327599210677)\n",
      "Shapiro-Wilk Test for VAS_after: ShapiroResult(statistic=0.9104494392935774, pvalue=0.011548677578574112)\n"
     ]
    }
   ],
   "source": [
    "#1.Import VAS DATA and name it as pain_vas. Check for normality of the data.\n",
    "# Check normality for VAS_before and Vas_after\n",
    "#1.Import VAS DATA and name it as pain_vas. Check for normality of the data.\n",
    "import pandas as pd\n",
    "pain_vas = pd.read_csv(\"C:/Users/datam/Desktop/CSVs/VAS DATA.csv\")\n",
    "print(pain_vas.head())\n",
    "summary = pain_vas.describe()\n",
    "print(summary)\n",
    "\n",
    "from scipy.stats import shapiro\n",
    "\n",
    "shapiro_before = shapiro(pain_vas['VAS_before'])\n",
    "shapiro_after = shapiro(pain_vas['VAS_after'])\n",
    "print(\"Shapiro-Wilk Test for VAS_before:\", shapiro_before)\n",
    "#Since p-value is >0.05,do not reject H0. Distribution of ‘VAS_before’ can be\n",
    "#assumed to be normal.\n",
    "print(\"Shapiro-Wilk Test for VAS_after:\", shapiro_after)\n",
    "#Since p-value is <0.05, reject H0. Distribution of ‘VAS_after’ appears to\n",
    "#be non-normal.\n"
   ]
  },
  {
   "cell_type": "code",
   "execution_count": 95,
   "id": "25ec5c7b-a41c-462b-8a22-92a31643766e",
   "metadata": {},
   "outputs": [
    {
     "data": {
      "text/plain": [
       "TtestResult(statistic=5.152334412772372, pvalue=2.8362848053804826e-06, df=62.0)"
      ]
     },
     "execution_count": 95,
     "metadata": {},
     "output_type": "execute_result"
    }
   ],
   "source": [
    "#2.Is post treatment VAS score significantly less as compared to ‘before treatment’ VAS score for Group A? \n",
    "import pandas as pd\n",
    "from scipy.stats import ttest_rel\n",
    "pain_vas = pd.read_csv(\"C:/Users/datam/Desktop/CSVs/VAS DATA.csv\")\n",
    "################################################################################\n",
    "# Subset the data for Group A\n",
    "groupA = pain_vas[pain_vas['Group'] == 'A']\n",
    "from scipy import stats\n",
    "stats.ttest_ind(pain_vas['VAS_before'],pain_vas['VAS_after'],nan_policy='omit',\n",
    "equal_var=True)\n",
    "#• Following hypotheses are tested in independent samples t test\n",
    "# - H0: Two population means are equal\n",
    " #- H1: Two population means are not equal\n",
    "#TtestResult(statistic=5.152334412772372, pvalue=2.8362848053804826e-06, df=62.0)\n",
    "#Since p-value is <0.05,  reject H0. There is  significant\n",
    "#difference in VAS score before treatment and VAS after treatment\n"
   ]
  },
  {
   "cell_type": "code",
   "execution_count": 97,
   "id": "df47f53f-e32e-4987-b49e-742b05a42812",
   "metadata": {},
   "outputs": [
    {
     "name": "stdout",
     "output_type": "stream",
     "text": [
      "Test Statistic: 30.0\n",
      "P: 0.0506591796875\n"
     ]
    }
   ],
   "source": [
    "#3.Is post treatment VAS score significantly less as compared to ‘before treatment’ VAS score for Group B? \n",
    "#When one variable (VAS_before) is normally distributed and the other (VAS_after) is not, \n",
    "#a good option would be the Wilcoxon signed-rank test\n",
    "\n",
    "# Subset the data for Group B\n",
    "from scipy.stats import wilcoxon\n",
    "pain_vas = pd.read_csv(\"C:/Users/datam/Desktop/CSVs/VAS DATA.csv\")\n",
    "# Subset the data for Group B\n",
    "groupB = pain_vas[pain_vas['Group'] == 'B']\n",
    "\n",
    "# Perform the Wilcoxon signed-rank test\n",
    "stat, P = wilcoxon(groupB['VAS_before'], groupB['VAS_after'], zero_method='wilcox', alternative='two-sided')\n",
    "\n",
    "# Output the results\n",
    "print(\"Test Statistic:\", stat)\n",
    "print(\"P:\", p_value)\n",
    "\n",
    "#Since p-value is >0.05,  accept H0. There is no significant\n",
    "#difference in VAS score before treatment and VAS after treatment"
   ]
  },
  {
   "cell_type": "code",
   "execution_count": 105,
   "id": "02090d74-14fd-4bb8-860a-061b81ecf21b",
   "metadata": {},
   "outputs": [
    {
     "name": "stdout",
     "output_type": "stream",
     "text": [
      "Test Statistic: 802.0\n",
      "P-value: 5.020259295764042e-05\n"
     ]
    }
   ],
   "source": [
    "#4.Is the average change in pain level for group ‘A’ significantly more than group ‘B’? \n",
    "pain_vas = pd.read_csv(\"C:/Users/datam/Desktop/CSVs/VAS DATA.csv\")\n",
    "\n",
    "\n",
    "from scipy.stats import mannwhitneyu\n",
    "\n",
    "# Ensure the correct columns are extracted from the DataFrame\n",
    "VAS_before = pain_vas['VAS_before']\n",
    "VAS_after = pain_vas['VAS_after']\n",
    "\n",
    "# Perform the Mann-Whitney U test\n",
    "stat, p_value = mannwhitneyu(VAS_before, VAS_after, alternative='greater')\n",
    "\n",
    "# Print the results\n",
    "print(\"Test Statistic:\", stat)\n",
    "print(\"P-value:\", p_value)\n",
    "#H0 No change in pain level for group ‘A’ and group ‘B’\n",
    "#H1  Change in pain level for group ‘A’ significantly more than group ‘B’\n",
    "#P-value: 5.020259295764042e-05  <0.05  therefore accept H1 ."
   ]
  },
  {
   "cell_type": "code",
   "execution_count": 110,
   "id": "9b087eb0-6cb1-491e-b453-c8a2d727e942",
   "metadata": {},
   "outputs": [
    {
     "data": {
      "text/plain": [
       "<Figure size 1000x800 with 0 Axes>"
      ]
     },
     "metadata": {},
     "output_type": "display_data"
    },
    {
     "data": {
      "image/png": "[encoded data removed]",
      "text/plain": [
       "<Figure size 640x480 with 1 Axes>"
      ]
     },
     "metadata": {},
     "output_type": "display_data"
    }
   ],
   "source": [
    "#5.Present change in pain level for each group using box-whisker plot.\n",
    "import pandas as pd\n",
    "import matplotlib.pyplot as plt\n",
    "pain_vas = pd.read_csv(\"C:/Users/datam/Desktop/CSVs/VAS DATA.csv\")\n",
    "pain_vas['Change'] = pain_vas['VAS_before'] - pain_vas['VAS_after']\n",
    "\n",
    "# Create the box-and-whisker plot\n",
    "plt.figure(figsize=(10, 8))\n",
    "pain_vas.boxplot(column='Change', by='Group', grid=False, patch_artist=True, boxprops=dict(facecolor='lightblue'))\n",
    "\n",
    "# Add labels and title\n",
    "plt.title('Change in Pain Level by Group')\n",
    "plt.suptitle('') \n",
    "plt.xlabel('Group')\n",
    "plt.ylabel('Change in Pain Level')\n",
    "\n",
    "# Show the plot\n",
    "plt.show()\n"
   ]
  },
  {
   "cell_type": "code",
   "execution_count": null,
   "id": "1094e29b-2101-4bb1-a63f-8d3f1910d3e4",
   "metadata": {},
   "outputs": [],
   "source": []
  }
 ],
 "metadata": {
  "kernelspec": {
   "display_name": "Python [conda env:base] *",
   "language": "python",
   "name": "conda-base-py"
  },
  "language_info": {
   "codemirror_mode": {
    "name": "ipython",
    "version": 3
   },
   "file_extension": ".py",
   "mimetype": "text/x-python",
   "name": "python",
   "nbconvert_exporter": "python",
   "pygments_lexer": "ipython3",
   "version": "3.12.7"
  }
 },
 "nbformat": 4,
 "nbformat_minor": 5
}
