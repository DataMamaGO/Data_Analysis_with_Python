{
 "cells": [
  {
   "cell_type": "code",
   "execution_count": 1,
   "id": "192553a0-6d43-4698-afc0-b05cd7075412",
   "metadata": {},
   "outputs": [],
   "source": [
    "#Assignment 2_One way Anova\n",
    "#Oksana Goljevacki"
   ]
  },
  {
   "cell_type": "code",
   "execution_count": 3,
   "id": "f2ee09e6-aad1-4b43-87aa-00be73c504d0",
   "metadata": {},
   "outputs": [],
   "source": [
    "#BACKGROUND:\n",
    "#A new marketing campaign was tested in 12 randomly selected stores of a large retail group. \n",
    "#Usual campaign was run in another 12 randomly selected stores during the same month. \n",
    "#The outcome variable is “Sales Growth”. \n",
    "\n"
   ]
  },
  {
   "cell_type": "code",
   "execution_count": 9,
   "id": "0fa1ea4f-37b3-49b8-99d9-ea2b314a086d",
   "metadata": {},
   "outputs": [
    {
     "name": "stdout",
     "output_type": "stream",
     "text": [
      "    StoreNo  Growth   Zone Campaign\n",
      "0         1    11.5   West      New\n",
      "1         2    12.3   West      New\n",
      "2         3    14.5   West      New\n",
      "3         4    11.9   West      New\n",
      "4         5    12.6  South      New\n",
      "5         6    13.4  South      New\n",
      "6         7    10.5  South      New\n",
      "7         8     9.5  South      New\n",
      "8         9    14.1   East      New\n",
      "9        10    13.8   East      New\n",
      "10       11    12.2   East      New\n",
      "11       12    11.8   East      New\n",
      "12       13     9.4   West    Usual\n",
      "13       14    10.3   West    Usual\n",
      "14       15    13.2   West    Usual\n",
      "15       16    14.1   West    Usual\n",
      "16       17    10.1  South    Usual\n",
      "17       18    11.0  South    Usual\n",
      "18       19     9.4  South    Usual\n",
      "19       20     9.6  South    Usual\n",
      "20       21     9.8   East    Usual\n",
      "21       22    10.3   East    Usual\n",
      "22       23    11.1   East    Usual\n",
      "23       24     9.2   East    Usual\n",
      "F-statistic: 7.768798056119564\n",
      "P-value: 0.010741730429926287\n",
      "The new campaign is significantly more effective than the usual campaign.\n"
     ]
    }
   ],
   "source": [
    "#1.Is the new campaign more effective than usual campaign?\n",
    "import pandas as pd\n",
    "from scipy.stats import f_oneway\n",
    "\n",
    "# Load the data\n",
    "Anova_data = pd.read_csv(\"C:/Users/datam/Desktop/CSVs/M2_T2_anova assignment data.csv\")\n",
    "print(Anova_data)\n",
    "# Separate sales growth by campaign\n",
    "new = Anova_data[Anova_data['Campaign'] == 'New']['Growth']\n",
    "usual = Anova_data[Anova_data['Campaign'] == 'Usual']['Growth']\n",
    "\n",
    "# Perform one-way ANOVA\n",
    "f_stat, p_value = f_oneway(new,usual)\n",
    "\n",
    "# Print the results\n",
    "print(\"F-statistic:\", f_stat)\n",
    "print(\"P-value:\", p_value)\n",
    "\n",
    "# Interpretation\n",
    "if p_value < 0.05:  # Assuming a significance level of 0.05\n",
    "    print(\"The new campaign is significantly more effective than the usual campaign.\")\n",
    "else:\n",
    "    print(\"No significant difference between the new and usual campaigns.\")\n"
   ]
  },
  {
   "cell_type": "code",
   "execution_count": 15,
   "id": "a2033580-2f38-4975-b2f3-fca1f10770d2",
   "metadata": {},
   "outputs": [
    {
     "name": "stdout",
     "output_type": "stream",
     "text": [
      "F-statistic: 1.353376098637898\n",
      "P-value: 0.2799922196588676\n",
      "There is no significant effect of Zone on sales growth.\n"
     ]
    }
   ],
   "source": [
    "#2.In the campaign testing, store numbers 1-4 and 13-16 are from ‘West’, 5-8 and 17-20 are from ‘South’ \n",
    "#and 9-12 and 21-24 are from ‘East’. \n",
    "#Test the effect of ‘Zone’ in this business experiment.\n",
    "import pandas as pd\n",
    "from scipy.stats import f_oneway\n",
    "# Group sales growth by Zone\n",
    "west = Anova_data[Anova_data['Zone'] == 'West']['Growth']\n",
    "south = Anova_data[Anova_data['Zone'] == 'South']['Growth']\n",
    "east = Anova_data[Anova_data['Zone'] == 'East']['Growth']\n",
    "\n",
    "# Perform one-way ANOVA\n",
    "f_stat, p_value = f_oneway(west,south,east)\n",
    "\n",
    "# Print the results\n",
    "print(\"F-statistic:\", f_stat)\n",
    "print(\"P-value:\", p_value)\n",
    "\n",
    "# Interpretation\n",
    "if p_value < 0.05:  # Assuming a significance level of 0.05\n",
    "    print(\"There is a significant effect of Zone on sales growth.\")\n",
    "else:\n",
    "    print(\"There is no significant effect of Zone on sales growth.\")\n"
   ]
  },
  {
   "cell_type": "code",
   "execution_count": null,
   "id": "3b962665-d656-49c1-b0a7-9747312e6611",
   "metadata": {},
   "outputs": [],
   "source": []
  }
 ],
 "metadata": {
  "kernelspec": {
   "display_name": "Python [conda env:base] *",
   "language": "python",
   "name": "conda-base-py"
  },
  "language_info": {
   "codemirror_mode": {
    "name": "ipython",
    "version": 3
   },
   "file_extension": ".py",
   "mimetype": "text/x-python",
   "name": "python",
   "nbconvert_exporter": "python",
   "pygments_lexer": "ipython3",
   "version": "3.12.7"
  }
 },
 "nbformat": 4,
 "nbformat_minor": 5
}
