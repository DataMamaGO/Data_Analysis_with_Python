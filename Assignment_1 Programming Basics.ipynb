{
 "cells": [
  {
   "cell_type": "code",
   "execution_count": 23,
   "id": "d8d98f30-1505-4eac-a371-567747258b6a",
   "metadata": {},
   "outputs": [
    {
     "name": "stdout",
     "output_type": "stream",
     "text": [
      "[[ 9  2  2  8]\n",
      " [10 10  4  7]\n",
      " [ 8  3  1  4]]\n"
     ]
    }
   ],
   "source": [
    "#Programming Basics in Python Questions\n",
    "#Assignment_1 Programming Basics\n",
    "#Oksana Goljevacki\n",
    "\n",
    "#1. Create a matrix with three rows A, B and C and four columns with names Q, W, E and R. \n",
    "#Fill the matrix with any numbers between 1 and 10.\n",
    "import numpy as np\n",
    "rows = ['A', 'B', 'C']\n",
    "columns = ['Q', 'W', 'E', 'R']\n",
    "matrix = np.random.randint(1, 11, size=(3, 4))\n",
    "print (matrix)\n",
    "\n",
    "\n"
   ]
  },
  {
   "cell_type": "code",
   "execution_count": 17,
   "id": "fb6357c1-b58b-4beb-88eb-9c9c4439f991",
   "metadata": {},
   "outputs": [
    {
     "name": "stdout",
     "output_type": "stream",
     "text": [
      "<class 'int'>\n",
      "<class 'str'>\n",
      "<class 'float'>\n",
      "[24]\n",
      "Categories (1, int64): [24]\n",
      "['Hello World']\n",
      "Categories (1, object): ['Hello World']\n",
      "[93.65]\n",
      "Categories (1, float64): [93.65]\n"
     ]
    }
   ],
   "source": [
    "#2. x = 24, y =”Hello World”, z = 93.65.\n",
    "#Identify the class of x, y and z and convert all three into factor.\n",
    "x=24\n",
    "y ='Hello World'\n",
    "z = 93.65\n",
    "import pandas as pd\n",
    "\n",
    "print(type(x))\n",
    "print(type(y))\n",
    "print(type(z))\n",
    "x_factor=pd.Categorical([x])\n",
    "y_factor=pd.Categorical([y])\n",
    "z_factor=pd.Categorical([z])\n",
    "print(x_factor)\n",
    "print(y_factor)\n",
    "print(z_factor)\n",
    "\n",
    "    \n"
   ]
  },
  {
   "cell_type": "code",
   "execution_count": 67,
   "id": "c9505cc6-9f48-4af3-8438-be643622a43a",
   "metadata": {},
   "outputs": [
    {
     "name": "stdout",
     "output_type": "stream",
     "text": [
      "8.123028991700078\n",
      "8.123\n",
      "1.819436006533418\n"
     ]
    }
   ],
   "source": [
    "#3. q = 65.9836\n",
    "#a. Find square root of q and round it up to 3 digits.\n",
    "#b. Check if log to the base 10 of q\n",
    "import math\n",
    "q = 65.9836\n",
    "math.sqrt(q)\n",
    "q1 = 8.123028991700078\n",
    "rounded_number = round(q1, 3)\n",
    "\n",
    "import math\n",
    "q = 65.9836\n",
    "sqrt_q = math.sqrt(q)\n",
    "print(sqrt_q)\n",
    "\n",
    "q1 = 8.123028991700078\n",
    "\n",
    "rounded_number = round(q1, 3)\n",
    "print(rounded_number)\n",
    "\n",
    "import math\n",
    "q = 65.9836\n",
    "log_q = math.log10(q)\n",
    "print(log_q)\n",
    "#<less than 2"
   ]
  },
  {
   "cell_type": "code",
   "execution_count": 81,
   "id": "dcaf6d12-b31b-434c-97a4-1d1d2ddc79e0",
   "metadata": {},
   "outputs": [
    {
     "name": "stdout",
     "output_type": "stream",
     "text": [
      "['Inte', 'Know', 'Wisd', 'Comp']\n",
      "I am intelligent\n",
      "['INTELLIGENCE', 'KNOWLEDGE', 'WISDOM', 'COMPREHENSION']\n"
     ]
    }
   ],
   "source": [
    "#4. x = c(“Intelligence”, “Knowledge”, “Wisdom”, “Comprehension”) \n",
    "#y = “I am”\n",
    "#z = “intelligent”\n",
    "#a. Find first 4 letters of each word in x.\n",
    "#b. Combine y and z to form a sentence “I am intelligent”\n",
    "#c. Convert all the words in x to upper case.\n",
    "x = [\"Intelligence\", \"Knowledge\", \"Wisdom\", \"Comprehension\"]\n",
    "first_four= [word[:4] for word in x]\n",
    "print(first_four)\n",
    "y = 'I am'\n",
    "z = 'intelligent'\n",
    "sentence = y + \" \" + z\n",
    "print(sentence)\n",
    "\n",
    "x = [\"Intelligence\", \"Knowledge\", \"Wisdom\", \"Comprehension\"]\n",
    "UpperCase= [word.upper() for word in x]\n",
    "print(UpperCase)\n"
   ]
  },
  {
   "cell_type": "code",
   "execution_count": 73,
   "id": "8a9bd838-02c7-46c1-ae4b-ebb21e33065a",
   "metadata": {},
   "outputs": [
    {
     "name": "stdout",
     "output_type": "stream",
     "text": [
      "Yes\n",
      "No\n",
      "No\n",
      "No\n",
      "Yes\n",
      "No\n",
      "Yes\n",
      "No\n",
      "No\n"
     ]
    }
   ],
   "source": [
    "#5. a = c(3,4,14,17,3,98,66,85,44)\n",
    "#Print “Yes” if the numbers in ‘a’ are divisible by 3 and “No” if they are not divisible by 3 using ifelse().\n",
    "a = [3, 4, 14, 17, 3, 98, 66, 85, 44]\n",
    "\n",
    "for number in a:\n",
    "    if number % 3 == 0:\n",
    "        print(\"Yes\")\n",
    "    else:\n",
    "        print(\"No\")\n"
   ]
  },
  {
   "cell_type": "code",
   "execution_count": 71,
   "id": "b0923a97-8583-4724-a4b0-fc7589b569d3",
   "metadata": {},
   "outputs": [
    {
     "name": "stdout",
     "output_type": "stream",
     "text": [
      "[3, 5, 19, 2, 16, 18, 28]\n"
     ]
    }
   ],
   "source": [
    "#6. b = c(36,3,5,19,2,16,18,41,35,28,30,31)\n",
    "#List all the numbers less than 30 in b using for loop.\n",
    "\n",
    "b = [36, 3, 5, 19, 2, 16, 18, 41, 35, 28, 30, 31]\n",
    "Less30 = []\n",
    "for number in b:\n",
    "    if number < 30:\n",
    "        Less30.append(number)\n",
    "print(Less30)"
   ]
  },
  {
   "cell_type": "code",
   "execution_count": 21,
   "id": "a7199001-cd6a-4dce-a2d4-e506304ec2c0",
   "metadata": {},
   "outputs": [
    {
     "name": "stdout",
     "output_type": "stream",
     "text": [
      "Date_new: 2018-01-30\n",
      "Day of week: Tuesday\n",
      "Month: January\n",
      "Difference in days: 2575\n"
     ]
    }
   ],
   "source": [
    "#7. Date = “01/30/18”\n",
    "#a) Convert Date into standard date format (yyyy-mm-dd) and name it as Date_new.\n",
    "#b) Extract day of week and month from Date_new.\n",
    "#c) Find the difference in the current system date and Date_new.\n",
    "Date_new = datetime.strptime(Date, \"%m/%d/%y\").strftime(\"%Y-%m-%d\")\n",
    "print(\"Date_new:\", Date_new)\n",
    "\n",
    "day_of_week = datetime.strptime(Date_new, \"%Y-%m-%d\").strftime(\"%A\")\n",
    "month = datetime.strptime(Date_new, \"%Y-%m-%d\").strftime(\"%B\")\n",
    "\n",
    "print(\"Day of week:\", day_of_week)\n",
    "print(\"Month:\", month)\n",
    "\n",
    "current_date = datetime.now()\n",
    "date_new_obj = datetime.strptime(Date_new, \"%Y-%m-%d\")\n",
    "difference = current_date - date_new_obj\n",
    "\n",
    "print(\"Difference in days:\", difference.days)\n"
   ]
  },
  {
   "cell_type": "code",
   "execution_count": null,
   "id": "db4f2e52-89eb-4d4f-bf1f-4ec4c86b0425",
   "metadata": {},
   "outputs": [],
   "source": []
  }
 ],
 "metadata": {
  "kernelspec": {
   "display_name": "Python [conda env:base] *",
   "language": "python",
   "name": "conda-base-py"
  },
  "language_info": {
   "codemirror_mode": {
    "name": "ipython",
    "version": 3
   },
   "file_extension": ".py",
   "mimetype": "text/x-python",
   "name": "python",
   "nbconvert_exporter": "python",
   "pygments_lexer": "ipython3",
   "version": "3.12.7"
  }
 },
 "nbformat": 4,
 "nbformat_minor": 5
}
